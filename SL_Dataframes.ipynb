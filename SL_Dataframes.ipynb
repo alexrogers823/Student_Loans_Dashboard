{
 "cells": [
  {
   "cell_type": "code",
   "execution_count": 41,
   "metadata": {},
   "outputs": [],
   "source": [
    "import numpy as np\n",
    "import pandas as pd"
   ]
  },
  {
   "cell_type": "code",
   "execution_count": 42,
   "metadata": {},
   "outputs": [],
   "source": [
    "initial_info = pd.read_excel(\"/Users/alexrogers823/Documents/Student Loan Payment Schedule.xlsx\", sheet_name=\"Initial Information\")\n",
    "balances_info = pd.read_excel(\"/Users/alexrogers823/Documents/Student Loan Payment Schedule.xlsx\", sheet_name=\"Projected Balances\")"
   ]
  },
  {
   "cell_type": "code",
   "execution_count": 43,
   "metadata": {},
   "outputs": [],
   "source": [
    "initial_index = initial_info[\"Student Loan Repayment: Game Plan\"][2:]\n",
    "initial_headers = initial_info.loc[1]"
   ]
  },
  {
   "cell_type": "code",
   "execution_count": 44,
   "metadata": {},
   "outputs": [],
   "source": [
    "initial_df = pd.DataFrame(initial_info)[2:]"
   ]
  },
  {
   "cell_type": "code",
   "execution_count": 45,
   "metadata": {},
   "outputs": [],
   "source": [
    "initial_df.rename(index=initial_index, columns=initial_headers, inplace=True)"
   ]
  },
  {
   "cell_type": "code",
   "execution_count": 46,
   "metadata": {},
   "outputs": [],
   "source": [
    "initial_df.drop(columns=\"Group\", inplace=True)"
   ]
  },
  {
   "cell_type": "code",
   "execution_count": 47,
   "metadata": {},
   "outputs": [],
   "source": [
    "balances_df = pd.DataFrame(balances_info)[1:]"
   ]
  },
  {
   "cell_type": "code",
   "execution_count": 48,
   "metadata": {},
   "outputs": [],
   "source": [
    "balances_headers =  balances_info.loc[0]"
   ]
  },
  {
   "cell_type": "code",
   "execution_count": 49,
   "metadata": {},
   "outputs": [],
   "source": [
    "balances_df.rename(columns=balances_headers, inplace=True)"
   ]
  },
  {
   "cell_type": "code",
   "execution_count": 50,
   "metadata": {},
   "outputs": [],
   "source": [
    "t_period_one = [['1', '12', '2016', '122016', '29116.20']]\n",
    "t_period_two = [['2', '1', '2017', '012017', '28108.40']]\n",
    "\n",
    "trend_periods = balances_df[\"Pay Periods\"]\n",
    "trend_month = balances_df[\"Month\"]\n",
    "trend_year = balances_df[\"Month\"]\n",
    "trend_monthyear = balances_df[\"Month\"]\n",
    "trend_actuals = balances_df[\"Actual Balance (Manual)\"]\n",
    "\n",
    "align_row_index = lambda x: [trend_periods[x], trend_month[x].month, trend_year[x].year, trend_monthyear[x].strftime('%m%Y'), trend_actuals[x]]\n",
    "other_periods = [align_row_index(x) for x in range(1, len(trend_periods))]\n",
    "trendline_data = np.concatenate((t_period_one, t_period_two, other_periods))"
   ]
  },
  {
   "cell_type": "code",
   "execution_count": 51,
   "metadata": {},
   "outputs": [],
   "source": [
    "trendline_df = pd.DataFrame(data=trendline_data, index=range(0, len(trendline_data)), columns=[\"Period\", \"Month\", \"Year\", \"Month/Year\", \"Actual Balance\"])"
   ]
  },
  {
   "cell_type": "code",
   "execution_count": 52,
   "metadata": {},
   "outputs": [],
   "source": [
    "trendline_condition = trendline_df[\"Actual Balance\"] != 'nan'\n",
    "\n",
    "filtered_trendline = trendline_df[trendline_condition]\n",
    "\n",
    "# Grabbing last known actual balance\n",
    "last_known_balance = filtered_trendline.tail(1)[\"Actual Balance\"]"
   ]
  },
  {
   "cell_type": "code",
   "execution_count": 53,
   "metadata": {},
   "outputs": [],
   "source": [
    "start_balance = float(last_known_balance.to_numpy()[0])"
   ]
  },
  {
   "cell_type": "code",
   "execution_count": 54,
   "metadata": {},
   "outputs": [],
   "source": [
    "monthly_payoff = initial_df.loc[\"Total\"][8]\n",
    "arr_of_forecasts = []"
   ]
  },
  {
   "cell_type": "code",
   "execution_count": 55,
   "metadata": {},
   "outputs": [],
   "source": [
    "def forecast_balances(bal = start_balance):\n",
    "    weighted_breakdown = initial_df[\"Weighted Balance\"] * bal\n",
    "    rec_pay = initial_df[\"Rec. Pay %\"] * monthly_payoff\n",
    "    interest = initial_df[\"Projected Interest %\"] + 1\n",
    "\n",
    "    proj_balance = (weighted_breakdown - rec_pay) *  interest\n",
    "    next_balance = proj_balance.sum()\n",
    "    if next_balance > 0:\n",
    "        arr_of_forecasts.append(next_balance)\n",
    "        forecast_balances(bal = arr_of_forecasts[-1])"
   ]
  },
  {
   "cell_type": "code",
   "execution_count": 56,
   "metadata": {},
   "outputs": [],
   "source": [
    "forecast_balances()\n",
    "actuals = np.array(filtered_trendline[\"Actual Balance\"])\n",
    "full_trendline_raw = np.array([*actuals, *arr_of_forecasts])\n",
    "months_forecasted = len(full_trendline_raw)\n",
    "trend_length = len(trendline_data)\n",
    "\n",
    "full_trendline = np.full((trend_length), 0.0)\n",
    "full_trendline[:months_forecasted] = full_trendline_raw"
   ]
  },
  {
   "cell_type": "code",
   "execution_count": 57,
   "metadata": {},
   "outputs": [],
   "source": [
    "trendline_df.insert(5, \"Full Trendline\", full_trendline)"
   ]
  },
  {
   "cell_type": "code",
   "execution_count": 58,
   "metadata": {},
   "outputs": [],
   "source": [
    "a_f = np.where(trendline_condition, 'A', 'F')"
   ]
  },
  {
   "cell_type": "code",
   "execution_count": 59,
   "metadata": {},
   "outputs": [],
   "source": [
    "find_delta = lambda x: trendline_df[\"Full Trendline\"][x-1] - trendline_df[\"Full Trendline\"][x]\n",
    "payment_delta_raw = np.array([find_delta(x) for x in range(1, len(trendline_df[\"Full Trendline\"]))])\n",
    "payment_delta_raw = np.insert(payment_delta_raw, 0, 0.00)\n",
    "\n",
    "payment_delta = np.where(payment_delta_raw > 0.1, payment_delta_raw, \"N/A\")"
   ]
  },
  {
   "cell_type": "code",
   "execution_count": 60,
   "metadata": {},
   "outputs": [],
   "source": [
    "trendline_df.insert(6, \"Delta Between Last Payment\", payment_delta)\n",
    "trendline_df.insert(7, \"Actual/Forecast\", a_f)"
   ]
  },
  {
   "cell_type": "code",
   "execution_count": 67,
   "metadata": {},
   "outputs": [],
   "source": [
    "trendline_df.to_csv(\"/Users/alexrogers823/Documents/Python_Projects/Student_Loans/Dataframes/trendline.csv\", index=False)\n",
    "initial_df.to_csv(\"/Users/alexrogers823/Documents/Python_Projects/Student_Loans/Dataframes/groups.csv\", index_label=\"Group\")"
   ]
  }
 ],
 "metadata": {
  "kernelspec": {
   "display_name": "Python 3",
   "language": "python",
   "name": "python3"
  },
  "language_info": {
   "codemirror_mode": {
    "name": "ipython",
    "version": 3
   },
   "file_extension": ".py",
   "mimetype": "text/x-python",
   "name": "python",
   "nbconvert_exporter": "python",
   "pygments_lexer": "ipython3",
   "version": "3.7.2"
  }
 },
 "nbformat": 4,
 "nbformat_minor": 2
}
